{
 "cells": [
  {
   "cell_type": "code",
   "execution_count": 317,
   "metadata": {},
   "outputs": [],
   "source": [
    "import numpy as np\n",
    "import pandas as pd\n",
    "import matplotlib.pyplot as plt\n",
    "\n",
    "df = pd.read_csv('C:/Users/u5677455/Dropbox/DataSciencePortfolio/PoliceKillings/data/the-counted-2015.csv')\n",
    "df = df.append(pd.read_csv('C:/Users/u5677455/Dropbox/DataSciencePortfolio/PoliceKillings/data/the-counted-2016.csv'))"
   ]
  },
  {
   "cell_type": "code",
   "execution_count": 318,
   "metadata": {},
   "outputs": [
    {
     "data": {
      "text/plain": [
       "(2239, 14)"
      ]
     },
     "execution_count": 318,
     "metadata": {},
     "output_type": "execute_result"
    }
   ],
   "source": [
    "df.shape"
   ]
  },
  {
   "cell_type": "code",
   "execution_count": 319,
   "metadata": {},
   "outputs": [
    {
     "data": {
      "text/plain": [
       "Index(['uid', 'name', 'age', 'gender', 'raceethnicity', 'month', 'day', 'year',\n",
       "       'streetaddress', 'city', 'state', 'classification',\n",
       "       'lawenforcementagency', 'armed'],\n",
       "      dtype='object')"
      ]
     },
     "execution_count": 319,
     "metadata": {},
     "output_type": "execute_result"
    }
   ],
   "source": [
    "df.columns"
   ]
  },
  {
   "cell_type": "code",
   "execution_count": 320,
   "metadata": {},
   "outputs": [
    {
     "data": {
      "text/plain": [
       "2239"
      ]
     },
     "execution_count": 320,
     "metadata": {},
     "output_type": "execute_result"
    }
   ],
   "source": [
    "len(df.uid.unique())"
   ]
  },
  {
   "cell_type": "code",
   "execution_count": 321,
   "metadata": {},
   "outputs": [
    {
     "data": {
      "text/plain": [
       "array(['Black', 'White', 'Hispanic/Latino', 'Asian/Pacific Islander',\n",
       "       'Unknown', 'Native American', 'Arab-American', 'Other'], dtype=object)"
      ]
     },
     "execution_count": 321,
     "metadata": {},
     "output_type": "execute_result"
    }
   ],
   "source": [
    "df.raceethnicity.unique()"
   ]
  },
  {
   "cell_type": "code",
   "execution_count": 322,
   "metadata": {},
   "outputs": [
    {
     "data": {
      "text/plain": [
       "array(['Death in custody', 'Gunshot', 'Struck by vehicle', 'Taser', 'Other'], dtype=object)"
      ]
     },
     "execution_count": 322,
     "metadata": {},
     "output_type": "execute_result"
    }
   ],
   "source": [
    "df.classification.unique()"
   ]
  },
  {
   "cell_type": "code",
   "execution_count": 323,
   "metadata": {},
   "outputs": [
    {
     "data": {
      "text/plain": [
       "gender\n",
       "Female             114\n",
       "Male              2124\n",
       "Non-conforming       1\n",
       "Name: gender, dtype: int64"
      ]
     },
     "execution_count": 323,
     "metadata": {},
     "output_type": "execute_result"
    }
   ],
   "source": [
    "df.groupby(['gender'])['gender'].count()"
   ]
  },
  {
   "cell_type": "code",
   "execution_count": 324,
   "metadata": {},
   "outputs": [],
   "source": [
    "df['weapon'] = df.armed\n",
    "df['armed'] = (df.armed!='No').astype(int)\n",
    "df['unarmed'] = 1-df.armed"
   ]
  },
  {
   "cell_type": "code",
   "execution_count": 325,
   "metadata": {},
   "outputs": [],
   "source": [
    "df['black'] = (df.raceethnicity=='Black').astype(int)\n",
    "df['nonwhite'] = (df.raceethnicity!='White').astype(int)\n",
    "df['nonmale'] = (df.gender!='Male').astype(int)\n",
    "df['minority'] = ((df.black + df.nonwhite + df.nonmale)>0).astype(int)\n",
    "df['woman'] = (df.gender=='Female').astype(int)"
   ]
  },
  {
   "cell_type": "code",
   "execution_count": 326,
   "metadata": {},
   "outputs": [
    {
     "data": {
      "text/html": [
       "<div>\n",
       "<style>\n",
       "    .dataframe thead tr:only-child th {\n",
       "        text-align: right;\n",
       "    }\n",
       "\n",
       "    .dataframe thead th {\n",
       "        text-align: left;\n",
       "    }\n",
       "\n",
       "    .dataframe tbody tr th {\n",
       "        vertical-align: top;\n",
       "    }\n",
       "</style>\n",
       "<table border=\"1\" class=\"dataframe\">\n",
       "  <thead>\n",
       "    <tr style=\"text-align: right;\">\n",
       "      <th></th>\n",
       "      <th>uid</th>\n",
       "      <th>name</th>\n",
       "      <th>age</th>\n",
       "      <th>gender</th>\n",
       "      <th>raceethnicity</th>\n",
       "      <th>month</th>\n",
       "      <th>day</th>\n",
       "      <th>year</th>\n",
       "      <th>streetaddress</th>\n",
       "      <th>city</th>\n",
       "      <th>...</th>\n",
       "      <th>lawenforcementagency</th>\n",
       "      <th>armed</th>\n",
       "      <th>weapon</th>\n",
       "      <th>unarmed</th>\n",
       "      <th>black</th>\n",
       "      <th>nonwhite</th>\n",
       "      <th>nonmale</th>\n",
       "      <th>minority</th>\n",
       "      <th>woman</th>\n",
       "      <th>intentional</th>\n",
       "    </tr>\n",
       "  </thead>\n",
       "  <tbody>\n",
       "    <tr>\n",
       "      <th>0</th>\n",
       "      <td>2</td>\n",
       "      <td>Matthew Ajibade</td>\n",
       "      <td>22</td>\n",
       "      <td>Male</td>\n",
       "      <td>Black</td>\n",
       "      <td>January</td>\n",
       "      <td>1</td>\n",
       "      <td>2015</td>\n",
       "      <td>1050 Carl Griffin Dr</td>\n",
       "      <td>Savannah</td>\n",
       "      <td>...</td>\n",
       "      <td>Chatham County Sheriff's Office</td>\n",
       "      <td>0</td>\n",
       "      <td>No</td>\n",
       "      <td>1</td>\n",
       "      <td>1</td>\n",
       "      <td>1</td>\n",
       "      <td>0</td>\n",
       "      <td>1</td>\n",
       "      <td>0</td>\n",
       "      <td>0</td>\n",
       "    </tr>\n",
       "    <tr>\n",
       "      <th>1</th>\n",
       "      <td>4</td>\n",
       "      <td>Lewis Lembke</td>\n",
       "      <td>47</td>\n",
       "      <td>Male</td>\n",
       "      <td>White</td>\n",
       "      <td>January</td>\n",
       "      <td>2</td>\n",
       "      <td>2015</td>\n",
       "      <td>4505 SW Masters Loop</td>\n",
       "      <td>Aloha</td>\n",
       "      <td>...</td>\n",
       "      <td>Washington County Sheriff's Office</td>\n",
       "      <td>1</td>\n",
       "      <td>Firearm</td>\n",
       "      <td>0</td>\n",
       "      <td>0</td>\n",
       "      <td>0</td>\n",
       "      <td>0</td>\n",
       "      <td>0</td>\n",
       "      <td>0</td>\n",
       "      <td>1</td>\n",
       "    </tr>\n",
       "    <tr>\n",
       "      <th>2</th>\n",
       "      <td>5</td>\n",
       "      <td>Michael Kocher Jr</td>\n",
       "      <td>19</td>\n",
       "      <td>Male</td>\n",
       "      <td>White</td>\n",
       "      <td>January</td>\n",
       "      <td>3</td>\n",
       "      <td>2015</td>\n",
       "      <td>2600 Kaumualii Hwy</td>\n",
       "      <td>Kaumakani</td>\n",
       "      <td>...</td>\n",
       "      <td>Kauai Police Department</td>\n",
       "      <td>0</td>\n",
       "      <td>No</td>\n",
       "      <td>1</td>\n",
       "      <td>0</td>\n",
       "      <td>0</td>\n",
       "      <td>0</td>\n",
       "      <td>0</td>\n",
       "      <td>0</td>\n",
       "      <td>0</td>\n",
       "    </tr>\n",
       "    <tr>\n",
       "      <th>3</th>\n",
       "      <td>6</td>\n",
       "      <td>John Quintero</td>\n",
       "      <td>23</td>\n",
       "      <td>Male</td>\n",
       "      <td>Hispanic/Latino</td>\n",
       "      <td>January</td>\n",
       "      <td>3</td>\n",
       "      <td>2015</td>\n",
       "      <td>500 North Oliver Ave</td>\n",
       "      <td>Wichita</td>\n",
       "      <td>...</td>\n",
       "      <td>Wichita Police Department</td>\n",
       "      <td>0</td>\n",
       "      <td>No</td>\n",
       "      <td>1</td>\n",
       "      <td>0</td>\n",
       "      <td>1</td>\n",
       "      <td>0</td>\n",
       "      <td>1</td>\n",
       "      <td>0</td>\n",
       "      <td>1</td>\n",
       "    </tr>\n",
       "    <tr>\n",
       "      <th>4</th>\n",
       "      <td>7</td>\n",
       "      <td>Tim Elliott</td>\n",
       "      <td>53</td>\n",
       "      <td>Male</td>\n",
       "      <td>Asian/Pacific Islander</td>\n",
       "      <td>January</td>\n",
       "      <td>2</td>\n",
       "      <td>2015</td>\n",
       "      <td>600 E Island Lake Dr</td>\n",
       "      <td>Shelton</td>\n",
       "      <td>...</td>\n",
       "      <td>Mason County Sheriff's Office</td>\n",
       "      <td>1</td>\n",
       "      <td>Firearm</td>\n",
       "      <td>0</td>\n",
       "      <td>0</td>\n",
       "      <td>1</td>\n",
       "      <td>0</td>\n",
       "      <td>1</td>\n",
       "      <td>0</td>\n",
       "      <td>1</td>\n",
       "    </tr>\n",
       "  </tbody>\n",
       "</table>\n",
       "<p>5 rows × 22 columns</p>\n",
       "</div>"
      ],
      "text/plain": [
       "   uid               name age gender           raceethnicity    month  day  \\\n",
       "0    2    Matthew Ajibade  22   Male                   Black  January    1   \n",
       "1    4       Lewis Lembke  47   Male                   White  January    2   \n",
       "2    5  Michael Kocher Jr  19   Male                   White  January    3   \n",
       "3    6      John Quintero  23   Male         Hispanic/Latino  January    3   \n",
       "4    7        Tim Elliott  53   Male  Asian/Pacific Islander  January    2   \n",
       "\n",
       "   year         streetaddress       city     ...       \\\n",
       "0  2015  1050 Carl Griffin Dr   Savannah     ...        \n",
       "1  2015  4505 SW Masters Loop      Aloha     ...        \n",
       "2  2015    2600 Kaumualii Hwy  Kaumakani     ...        \n",
       "3  2015  500 North Oliver Ave    Wichita     ...        \n",
       "4  2015  600 E Island Lake Dr    Shelton     ...        \n",
       "\n",
       "                 lawenforcementagency armed   weapon  unarmed black  nonwhite  \\\n",
       "0     Chatham County Sheriff's Office     0       No        1     1         1   \n",
       "1  Washington County Sheriff's Office     1  Firearm        0     0         0   \n",
       "2             Kauai Police Department     0       No        1     0         0   \n",
       "3           Wichita Police Department     0       No        1     0         1   \n",
       "4       Mason County Sheriff's Office     1  Firearm        0     0         1   \n",
       "\n",
       "   nonmale  minority  woman  intentional  \n",
       "0        0         1      0            0  \n",
       "1        0         0      0            1  \n",
       "2        0         0      0            0  \n",
       "3        0         1      0            1  \n",
       "4        0         1      0            1  \n",
       "\n",
       "[5 rows x 22 columns]"
      ]
     },
     "execution_count": 326,
     "metadata": {},
     "output_type": "execute_result"
    }
   ],
   "source": [
    "df['intentional'] = ((df['classification']=='Gunshot') | (df['classification']=='Gunshot')).astype(int)\n",
    "df.head()"
   ]
  },
  {
   "cell_type": "code",
   "execution_count": 327,
   "metadata": {},
   "outputs": [
    {
     "data": {
      "text/html": [
       "<div>\n",
       "<style>\n",
       "    .dataframe thead tr:only-child th {\n",
       "        text-align: right;\n",
       "    }\n",
       "\n",
       "    .dataframe thead th {\n",
       "        text-align: left;\n",
       "    }\n",
       "\n",
       "    .dataframe tbody tr th {\n",
       "        vertical-align: top;\n",
       "    }\n",
       "</style>\n",
       "<table border=\"1\" class=\"dataframe\">\n",
       "  <thead>\n",
       "    <tr style=\"text-align: right;\">\n",
       "      <th></th>\n",
       "      <th>unarmed</th>\n",
       "      <th>black</th>\n",
       "      <th>nonwhite</th>\n",
       "      <th>nonmale</th>\n",
       "      <th>minority</th>\n",
       "      <th>intentional</th>\n",
       "      <th>age</th>\n",
       "      <th>uid</th>\n",
       "      <th>woman</th>\n",
       "    </tr>\n",
       "  </thead>\n",
       "  <tbody>\n",
       "    <tr>\n",
       "      <th>0</th>\n",
       "      <td>1</td>\n",
       "      <td>1</td>\n",
       "      <td>1</td>\n",
       "      <td>0</td>\n",
       "      <td>1</td>\n",
       "      <td>0</td>\n",
       "      <td>22</td>\n",
       "      <td>2</td>\n",
       "      <td>0</td>\n",
       "    </tr>\n",
       "    <tr>\n",
       "      <th>1</th>\n",
       "      <td>0</td>\n",
       "      <td>0</td>\n",
       "      <td>0</td>\n",
       "      <td>0</td>\n",
       "      <td>0</td>\n",
       "      <td>1</td>\n",
       "      <td>47</td>\n",
       "      <td>4</td>\n",
       "      <td>0</td>\n",
       "    </tr>\n",
       "    <tr>\n",
       "      <th>2</th>\n",
       "      <td>1</td>\n",
       "      <td>0</td>\n",
       "      <td>0</td>\n",
       "      <td>0</td>\n",
       "      <td>0</td>\n",
       "      <td>0</td>\n",
       "      <td>19</td>\n",
       "      <td>5</td>\n",
       "      <td>0</td>\n",
       "    </tr>\n",
       "    <tr>\n",
       "      <th>3</th>\n",
       "      <td>1</td>\n",
       "      <td>0</td>\n",
       "      <td>1</td>\n",
       "      <td>0</td>\n",
       "      <td>1</td>\n",
       "      <td>1</td>\n",
       "      <td>23</td>\n",
       "      <td>6</td>\n",
       "      <td>0</td>\n",
       "    </tr>\n",
       "    <tr>\n",
       "      <th>4</th>\n",
       "      <td>0</td>\n",
       "      <td>0</td>\n",
       "      <td>1</td>\n",
       "      <td>0</td>\n",
       "      <td>1</td>\n",
       "      <td>1</td>\n",
       "      <td>53</td>\n",
       "      <td>7</td>\n",
       "      <td>0</td>\n",
       "    </tr>\n",
       "  </tbody>\n",
       "</table>\n",
       "</div>"
      ],
      "text/plain": [
       "   unarmed  black  nonwhite  nonmale  minority  intentional age  uid  woman\n",
       "0        1      1         1        0         1            0  22    2      0\n",
       "1        0      0         0        0         0            1  47    4      0\n",
       "2        1      0         0        0         0            0  19    5      0\n",
       "3        1      0         1        0         1            1  23    6      0\n",
       "4        0      0         1        0         1            1  53    7      0"
      ]
     },
     "execution_count": 327,
     "metadata": {},
     "output_type": "execute_result"
    }
   ],
   "source": [
    "dfs = df.loc[:,('unarmed','black','nonwhite','nonmale','minority','intentional','age','uid','woman')]\n",
    "dfs.head()"
   ]
  },
  {
   "cell_type": "code",
   "execution_count": 328,
   "metadata": {},
   "outputs": [
    {
     "data": {
      "text/plain": [
       "black       0.255918\n",
       "nonwhite    0.482805\n",
       "nonmale     0.051362\n",
       "minority    0.516749\n",
       "unarmed     0.180884\n",
       "dtype: float64"
      ]
     },
     "execution_count": 328,
     "metadata": {},
     "output_type": "execute_result"
    }
   ],
   "source": [
    "dfs.loc[:,('black','nonwhite','nonmale','minority','unarmed')].mean()"
   ]
  },
  {
   "cell_type": "code",
   "execution_count": 329,
   "metadata": {},
   "outputs": [
    {
     "data": {
      "text/html": [
       "<div>\n",
       "<style>\n",
       "    .dataframe thead tr:only-child th {\n",
       "        text-align: right;\n",
       "    }\n",
       "\n",
       "    .dataframe thead th {\n",
       "        text-align: left;\n",
       "    }\n",
       "\n",
       "    .dataframe tbody tr th {\n",
       "        vertical-align: top;\n",
       "    }\n",
       "</style>\n",
       "<table border=\"1\" class=\"dataframe\">\n",
       "  <thead>\n",
       "    <tr style=\"text-align: right;\">\n",
       "      <th></th>\n",
       "      <th>black</th>\n",
       "      <th>nonwhite</th>\n",
       "      <th>nonmale</th>\n",
       "      <th>minority</th>\n",
       "      <th>unarmed</th>\n",
       "    </tr>\n",
       "    <tr>\n",
       "      <th>unarmed</th>\n",
       "      <th></th>\n",
       "      <th></th>\n",
       "      <th></th>\n",
       "      <th></th>\n",
       "      <th></th>\n",
       "    </tr>\n",
       "  </thead>\n",
       "  <tbody>\n",
       "    <tr>\n",
       "      <th>0</th>\n",
       "      <td>0.246456</td>\n",
       "      <td>0.478190</td>\n",
       "      <td>0.041439</td>\n",
       "      <td>0.504362</td>\n",
       "      <td>0.0</td>\n",
       "    </tr>\n",
       "    <tr>\n",
       "      <th>1</th>\n",
       "      <td>0.298765</td>\n",
       "      <td>0.503704</td>\n",
       "      <td>0.096296</td>\n",
       "      <td>0.572840</td>\n",
       "      <td>1.0</td>\n",
       "    </tr>\n",
       "  </tbody>\n",
       "</table>\n",
       "</div>"
      ],
      "text/plain": [
       "            black  nonwhite   nonmale  minority  unarmed\n",
       "unarmed                                                 \n",
       "0        0.246456  0.478190  0.041439  0.504362      0.0\n",
       "1        0.298765  0.503704  0.096296  0.572840      1.0"
      ]
     },
     "execution_count": 329,
     "metadata": {},
     "output_type": "execute_result"
    }
   ],
   "source": [
    "dfs.groupby(['unarmed'])[('black','nonwhite','nonmale','minority','unarmed')].mean()"
   ]
  },
  {
   "cell_type": "code",
   "execution_count": 330,
   "metadata": {},
   "outputs": [
    {
     "name": "stdout",
     "output_type": "stream",
     "text": [
      "Optimization terminated successfully.\n",
      "         Current function value: 0.468832\n",
      "         Iterations 5\n",
      "                           Logit Regression Results                           \n",
      "==============================================================================\n",
      "Dep. Variable:                unarmed   No. Observations:                 2239\n",
      "Model:                          Logit   Df Residuals:                     2237\n",
      "Method:                           MLE   Df Model:                            1\n",
      "Date:                Wed, 15 Nov 2017   Pseudo R-squ.:                0.008248\n",
      "Time:                        13:42:58   Log-Likelihood:                -1049.7\n",
      "converged:                       True   LL-Null:                       -1058.4\n",
      "                                        LLR p-value:                 2.932e-05\n",
      "==============================================================================\n",
      "                 coef    std err          z      P>|z|      [0.025      0.975]\n",
      "------------------------------------------------------------------------------\n",
      "Intercept     -1.5693      0.057    -27.314      0.000      -1.682      -1.457\n",
      "nonmale        0.9021      0.205      4.397      0.000       0.500       1.304\n",
      "==============================================================================\n"
     ]
    }
   ],
   "source": [
    "from statsmodels.formula.api import logit\n",
    "model = logit('unarmed ~ nonmale', dfs).fit()\n",
    "print(model.summary())"
   ]
  },
  {
   "cell_type": "code",
   "execution_count": 331,
   "metadata": {},
   "outputs": [
    {
     "data": {
      "text/html": [
       "<div>\n",
       "<style>\n",
       "    .dataframe thead tr:only-child th {\n",
       "        text-align: right;\n",
       "    }\n",
       "\n",
       "    .dataframe thead th {\n",
       "        text-align: left;\n",
       "    }\n",
       "\n",
       "    .dataframe tbody tr th {\n",
       "        vertical-align: top;\n",
       "    }\n",
       "</style>\n",
       "<table border=\"1\" class=\"dataframe\">\n",
       "  <thead>\n",
       "    <tr style=\"text-align: right;\">\n",
       "      <th></th>\n",
       "      <th>unarmed</th>\n",
       "      <th>black</th>\n",
       "      <th>nonwhite</th>\n",
       "      <th>nonmale</th>\n",
       "      <th>minority</th>\n",
       "      <th>intentional</th>\n",
       "      <th>age</th>\n",
       "      <th>uid</th>\n",
       "      <th>woman</th>\n",
       "    </tr>\n",
       "  </thead>\n",
       "  <tbody>\n",
       "    <tr>\n",
       "      <th>1</th>\n",
       "      <td>0</td>\n",
       "      <td>0</td>\n",
       "      <td>0</td>\n",
       "      <td>0</td>\n",
       "      <td>0</td>\n",
       "      <td>1</td>\n",
       "      <td>47</td>\n",
       "      <td>4</td>\n",
       "      <td>0</td>\n",
       "    </tr>\n",
       "    <tr>\n",
       "      <th>3</th>\n",
       "      <td>1</td>\n",
       "      <td>0</td>\n",
       "      <td>1</td>\n",
       "      <td>0</td>\n",
       "      <td>1</td>\n",
       "      <td>1</td>\n",
       "      <td>23</td>\n",
       "      <td>6</td>\n",
       "      <td>0</td>\n",
       "    </tr>\n",
       "    <tr>\n",
       "      <th>4</th>\n",
       "      <td>0</td>\n",
       "      <td>0</td>\n",
       "      <td>1</td>\n",
       "      <td>0</td>\n",
       "      <td>1</td>\n",
       "      <td>1</td>\n",
       "      <td>53</td>\n",
       "      <td>7</td>\n",
       "      <td>0</td>\n",
       "    </tr>\n",
       "    <tr>\n",
       "      <th>5</th>\n",
       "      <td>0</td>\n",
       "      <td>0</td>\n",
       "      <td>0</td>\n",
       "      <td>0</td>\n",
       "      <td>0</td>\n",
       "      <td>1</td>\n",
       "      <td>32</td>\n",
       "      <td>8</td>\n",
       "      <td>0</td>\n",
       "    </tr>\n",
       "    <tr>\n",
       "      <th>6</th>\n",
       "      <td>0</td>\n",
       "      <td>0</td>\n",
       "      <td>1</td>\n",
       "      <td>0</td>\n",
       "      <td>1</td>\n",
       "      <td>1</td>\n",
       "      <td>22</td>\n",
       "      <td>9</td>\n",
       "      <td>0</td>\n",
       "    </tr>\n",
       "  </tbody>\n",
       "</table>\n",
       "</div>"
      ],
      "text/plain": [
       "   unarmed  black  nonwhite  nonmale  minority  intentional age  uid  woman\n",
       "1        0      0         0        0         0            1  47    4      0\n",
       "3        1      0         1        0         1            1  23    6      0\n",
       "4        0      0         1        0         1            1  53    7      0\n",
       "5        0      0         0        0         0            1  32    8      0\n",
       "6        0      0         1        0         1            1  22    9      0"
      ]
     },
     "execution_count": 331,
     "metadata": {},
     "output_type": "execute_result"
    }
   ],
   "source": [
    "dfss = dfs.loc[df.intentional==1,:]\n",
    "dfss.head()"
   ]
  },
  {
   "cell_type": "code",
   "execution_count": 332,
   "metadata": {},
   "outputs": [
    {
     "name": "stdout",
     "output_type": "stream",
     "text": [
      "Optimization terminated successfully.\n",
      "         Current function value: 0.340518\n",
      "         Iterations 6\n",
      "                           Logit Regression Results                           \n",
      "==============================================================================\n",
      "Dep. Variable:                unarmed   No. Observations:                 2028\n",
      "Model:                          Logit   Df Residuals:                     2026\n",
      "Method:                           MLE   Df Model:                            1\n",
      "Date:                Wed, 15 Nov 2017   Pseudo R-squ.:                0.002132\n",
      "Time:                        13:42:58   Log-Likelihood:                -690.57\n",
      "converged:                       True   LL-Null:                       -692.05\n",
      "                                        LLR p-value:                   0.08579\n",
      "==============================================================================\n",
      "                 coef    std err          z      P>|z|      [0.025      0.975]\n",
      "------------------------------------------------------------------------------\n",
      "Intercept     -2.2413      0.105    -21.416      0.000      -2.446      -2.036\n",
      "nonwhite       0.2466      0.144      1.715      0.086      -0.035       0.528\n",
      "==============================================================================\n"
     ]
    }
   ],
   "source": [
    "model = logit('unarmed ~ nonwhite', dfss).fit()\n",
    "print(model.summary())"
   ]
  },
  {
   "cell_type": "code",
   "execution_count": 333,
   "metadata": {},
   "outputs": [
    {
     "name": "stdout",
     "output_type": "stream",
     "text": [
      "Optimization terminated successfully.\n",
      "         Current function value: 0.339125\n",
      "         Iterations 6\n",
      "                           Logit Regression Results                           \n",
      "==============================================================================\n",
      "Dep. Variable:                unarmed   No. Observations:                 2028\n",
      "Model:                          Logit   Df Residuals:                     2025\n",
      "Method:                           MLE   Df Model:                            2\n",
      "Date:                Wed, 15 Nov 2017   Pseudo R-squ.:                0.006215\n",
      "Time:                        13:42:58   Log-Likelihood:                -687.75\n",
      "converged:                       True   LL-Null:                       -692.05\n",
      "                                        LLR p-value:                   0.01356\n",
      "==============================================================================\n",
      "                 coef    std err          z      P>|z|      [0.025      0.975]\n",
      "------------------------------------------------------------------------------\n",
      "Intercept     -2.2942      0.108    -21.230      0.000      -2.506      -2.082\n",
      "nonmale        0.7110      0.280      2.539      0.011       0.162       1.260\n",
      "nonwhite       0.2695      0.144      1.866      0.062      -0.014       0.553\n",
      "==============================================================================\n"
     ]
    }
   ],
   "source": [
    "model = logit('unarmed ~ nonmale + nonwhite', dfss).fit()\n",
    "print(model.summary())"
   ]
  },
  {
   "cell_type": "code",
   "execution_count": 334,
   "metadata": {},
   "outputs": [
    {
     "data": {
      "text/plain": [
       "unarmed        1.074951e-01\n",
       "black          2.514793e-01\n",
       "nonwhite       4.817554e-01\n",
       "nonmale        4.536489e-02\n",
       "minority       5.113412e-01\n",
       "intentional    1.000000e+00\n",
       "uid            1.687414e+06\n",
       "woman          4.487179e-02\n",
       "dtype: float64"
      ]
     },
     "execution_count": 334,
     "metadata": {},
     "output_type": "execute_result"
    }
   ],
   "source": [
    "dfss.mean()"
   ]
  },
  {
   "cell_type": "code",
   "execution_count": 335,
   "metadata": {},
   "outputs": [
    {
     "name": "stderr",
     "output_type": "stream",
     "text": [
      "C:\\Users\\u5677455\\AppData\\Local\\Continuum\\Anaconda2\\envs\\py36\\lib\\site-packages\\ipykernel_launcher.py:1: SettingWithCopyWarning: \n",
      "A value is trying to be set on a copy of a slice from a DataFrame.\n",
      "Try using .loc[row_indexer,col_indexer] = value instead\n",
      "\n",
      "See the caveats in the documentation: http://pandas.pydata.org/pandas-docs/stable/indexing.html#indexing-view-versus-copy\n",
      "  \"\"\"Entry point for launching an IPython kernel.\n",
      "C:\\Users\\u5677455\\AppData\\Local\\Continuum\\Anaconda2\\envs\\py36\\lib\\site-packages\\ipykernel_launcher.py:2: SettingWithCopyWarning: \n",
      "A value is trying to be set on a copy of a slice from a DataFrame.\n",
      "Try using .loc[row_indexer,col_indexer] = value instead\n",
      "\n",
      "See the caveats in the documentation: http://pandas.pydata.org/pandas-docs/stable/indexing.html#indexing-view-versus-copy\n",
      "  \n"
     ]
    },
    {
     "data": {
      "text/html": [
       "<div>\n",
       "<style>\n",
       "    .dataframe thead tr:only-child th {\n",
       "        text-align: right;\n",
       "    }\n",
       "\n",
       "    .dataframe thead th {\n",
       "        text-align: left;\n",
       "    }\n",
       "\n",
       "    .dataframe tbody tr th {\n",
       "        vertical-align: top;\n",
       "    }\n",
       "</style>\n",
       "<table border=\"1\" class=\"dataframe\">\n",
       "  <thead>\n",
       "    <tr style=\"text-align: right;\">\n",
       "      <th></th>\n",
       "      <th>black</th>\n",
       "      <th>nonwhite</th>\n",
       "      <th>nonmale</th>\n",
       "      <th>minority</th>\n",
       "      <th>intentional</th>\n",
       "      <th>uid</th>\n",
       "      <th>woman</th>\n",
       "      <th>white</th>\n",
       "      <th>male</th>\n",
       "    </tr>\n",
       "    <tr>\n",
       "      <th>unarmed</th>\n",
       "      <th></th>\n",
       "      <th></th>\n",
       "      <th></th>\n",
       "      <th></th>\n",
       "      <th></th>\n",
       "      <th></th>\n",
       "      <th></th>\n",
       "      <th></th>\n",
       "      <th></th>\n",
       "    </tr>\n",
       "  </thead>\n",
       "  <tbody>\n",
       "    <tr>\n",
       "      <th>0</th>\n",
       "      <td>440</td>\n",
       "      <td>860</td>\n",
       "      <td>75</td>\n",
       "      <td>907</td>\n",
       "      <td>1810</td>\n",
       "      <td>3138284600</td>\n",
       "      <td>75</td>\n",
       "      <td>950</td>\n",
       "      <td>1735</td>\n",
       "    </tr>\n",
       "    <tr>\n",
       "      <th>1</th>\n",
       "      <td>70</td>\n",
       "      <td>117</td>\n",
       "      <td>17</td>\n",
       "      <td>130</td>\n",
       "      <td>218</td>\n",
       "      <td>283791383</td>\n",
       "      <td>16</td>\n",
       "      <td>101</td>\n",
       "      <td>201</td>\n",
       "    </tr>\n",
       "  </tbody>\n",
       "</table>\n",
       "</div>"
      ],
      "text/plain": [
       "         black  nonwhite  nonmale  minority  intentional         uid  woman  \\\n",
       "unarmed                                                                       \n",
       "0          440       860       75       907         1810  3138284600     75   \n",
       "1           70       117       17       130          218   283791383     16   \n",
       "\n",
       "         white  male  \n",
       "unarmed               \n",
       "0          950  1735  \n",
       "1          101   201  "
      ]
     },
     "execution_count": 335,
     "metadata": {},
     "output_type": "execute_result"
    }
   ],
   "source": [
    "dfss['white'] = 1 - dfss.nonwhite\n",
    "dfss['male'] = 1 - dfss.nonmale\n",
    "dfss.groupby(['unarmed']).sum()"
   ]
  },
  {
   "cell_type": "code",
   "execution_count": 385,
   "metadata": {},
   "outputs": [],
   "source": [
    "plotdata = dfss.groupby(['unarmed']).sum()\n",
    "plotdata = plotdata.loc[:,('black','nonwhite','woman','white','male')]"
   ]
  },
  {
   "cell_type": "code",
   "execution_count": 386,
   "metadata": {},
   "outputs": [],
   "source": [
    "plotdata = plotdata.append(plotdata.sum(),ignore_index=True)\n",
    "x = list(plotdata.columns)\n",
    "y = list(plotdata.loc[1]/plotdata.loc[2])"
   ]
  },
  {
   "cell_type": "code",
   "execution_count": 387,
   "metadata": {},
   "outputs": [
    {
     "data": {
      "image/png": "[encoded data removed]",
      "text/plain": [
       "<matplotlib.figure.Figure at 0xf6f8198>"
      ]
     },
     "metadata": {},
     "output_type": "display_data"
    }
   ],
   "source": [
    "plt.bar(x,y)\n",
    "plt.show()"
   ]
  },
  {
   "cell_type": "code",
   "execution_count": null,
   "metadata": {
    "collapsed": true
   },
   "outputs": [],
   "source": []
  }
 ],
 "metadata": {
  "kernelspec": {
   "display_name": "Python 3",
   "language": "python",
   "name": "python3"
  },
  "language_info": {
   "codemirror_mode": {
    "name": "ipython",
    "version": 3
   },
   "file_extension": ".py",
   "mimetype": "text/x-python",
   "name": "python",
   "nbconvert_exporter": "python",
   "pygments_lexer": "ipython3",
   "version": "3.6.1"
  }
 },
 "nbformat": 4,
 "nbformat_minor": 2
}
