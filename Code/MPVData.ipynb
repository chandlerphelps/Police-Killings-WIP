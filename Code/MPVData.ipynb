{
 "cells": [
  {
   "cell_type": "markdown",
   "metadata": {},
   "source": [
    "# Police Killings - Bias Against Women or Statistical Anomaly?\n",
    "## Investigating the Likelihood of Being Unarmed for those Killed by Police\n",
    "#### Data Source: https://mappingpoliceviolence.org/"
   ]
  },
  {
   "cell_type": "code",
   "execution_count": 38,
   "metadata": {
    "collapsed": true
   },
   "outputs": [],
   "source": [
    "% matplotlib inline\n",
    "import pandas as pd\n",
    "import numpy as np\n",
    "import matplotlib.pyplot as plt\n",
    "\n",
    "df = pd.read_excel('C:/Users/u5677455/Dropbox/DataSciencePortfolio/PoliceKillings/data/MPVClean.xlsx')"
   ]
  },
  {
   "cell_type": "code",
   "execution_count": 39,
   "metadata": {},
   "outputs": [
    {
     "data": {
      "text/plain": [
       "['name',\n",
       " 'age',\n",
       " 'gender',\n",
       " 'race',\n",
       " 'image',\n",
       " 'date',\n",
       " 'address',\n",
       " 'city',\n",
       " 'state',\n",
       " 'zip',\n",
       " 'county',\n",
       " 'agency',\n",
       " 'cause_of_death',\n",
       " 'description',\n",
       " 'justified',\n",
       " 'charges',\n",
       " 'link',\n",
       " 'mental_illness',\n",
       " 'armed',\n",
       " 'victim_weapon',\n",
       " 'threat_level',\n",
       " 'fleeing',\n",
       " 'camera',\n",
       " 'WaPo ID (If included in WaPo database)']"
      ]
     },
     "execution_count": 39,
     "metadata": {},
     "output_type": "execute_result"
    }
   ],
   "source": [
    "# Printing out the variables\n",
    "list(df.columns)"
   ]
  },
  {
   "cell_type": "code",
   "execution_count": 40,
   "metadata": {},
   "outputs": [
    {
     "name": "stdout",
     "output_type": "stream",
     "text": [
      "Data ranges from 2013 to 2017\n"
     ]
    }
   ],
   "source": [
    "print('Data ranges from ' + str(df.date.min())[0:4] + ' to ' + str(df.date.max())[0:4])"
   ]
  },
  {
   "cell_type": "markdown",
   "metadata": {},
   "source": [
    "#### Creating a separate dataframe with just the variables I'm considering at the moment"
   ]
  },
  {
   "cell_type": "code",
   "execution_count": 41,
   "metadata": {},
   "outputs": [
    {
     "data": {
      "text/html": [
       "<div>\n",
       "<style>\n",
       "    .dataframe thead tr:only-child th {\n",
       "        text-align: right;\n",
       "    }\n",
       "\n",
       "    .dataframe thead th {\n",
       "        text-align: left;\n",
       "    }\n",
       "\n",
       "    .dataframe tbody tr th {\n",
       "        vertical-align: top;\n",
       "    }\n",
       "</style>\n",
       "<table border=\"1\" class=\"dataframe\">\n",
       "  <thead>\n",
       "    <tr style=\"text-align: right;\">\n",
       "      <th></th>\n",
       "      <th>age</th>\n",
       "      <th>gender</th>\n",
       "      <th>race</th>\n",
       "      <th>armed</th>\n",
       "      <th>victim_weapon</th>\n",
       "      <th>cause_of_death</th>\n",
       "      <th>description</th>\n",
       "      <th>mental_illness</th>\n",
       "      <th>threat_level</th>\n",
       "      <th>fleeing</th>\n",
       "      <th>justified</th>\n",
       "    </tr>\n",
       "  </thead>\n",
       "  <tbody>\n",
       "    <tr>\n",
       "      <th>0</th>\n",
       "      <td>54</td>\n",
       "      <td>Female</td>\n",
       "      <td>White</td>\n",
       "      <td>Allegedly Armed</td>\n",
       "      <td>knife</td>\n",
       "      <td>Gunshot</td>\n",
       "      <td>Around 10:35 p.m., officers responded to a cal...</td>\n",
       "      <td>Yes</td>\n",
       "      <td>other</td>\n",
       "      <td>Not fleeing</td>\n",
       "      <td>Pending investigation</td>\n",
       "    </tr>\n",
       "    <tr>\n",
       "      <th>1</th>\n",
       "      <td>49</td>\n",
       "      <td>Male</td>\n",
       "      <td>Black</td>\n",
       "      <td>Unclear</td>\n",
       "      <td>undetermined</td>\n",
       "      <td>Gunshot</td>\n",
       "      <td>Rockford Police Officer Jaimie Cox, 30, was ki...</td>\n",
       "      <td>No</td>\n",
       "      <td>undetermined</td>\n",
       "      <td>Car</td>\n",
       "      <td>Pending investigation</td>\n",
       "    </tr>\n",
       "    <tr>\n",
       "      <th>2</th>\n",
       "      <td>31</td>\n",
       "      <td>Female</td>\n",
       "      <td>Hispanic</td>\n",
       "      <td>Vehicle</td>\n",
       "      <td>vehicle</td>\n",
       "      <td>Gunshot</td>\n",
       "      <td>Ruidoso police were dispatched to a residence ...</td>\n",
       "      <td>No</td>\n",
       "      <td>attack</td>\n",
       "      <td>Not fleeing</td>\n",
       "      <td>Pending investigation</td>\n",
       "    </tr>\n",
       "    <tr>\n",
       "      <th>3</th>\n",
       "      <td>Unknown</td>\n",
       "      <td>Male</td>\n",
       "      <td>White</td>\n",
       "      <td>Allegedly Armed</td>\n",
       "      <td>gun</td>\n",
       "      <td>Gunshot</td>\n",
       "      <td>A couple was riding with an unidentified man, ...</td>\n",
       "      <td>Unknown</td>\n",
       "      <td>attack</td>\n",
       "      <td>Not fleeing</td>\n",
       "      <td>Pending investigation</td>\n",
       "    </tr>\n",
       "    <tr>\n",
       "      <th>4</th>\n",
       "      <td>56</td>\n",
       "      <td>Male</td>\n",
       "      <td>Asian</td>\n",
       "      <td>Allegedly Armed</td>\n",
       "      <td>knife</td>\n",
       "      <td>Gunshot</td>\n",
       "      <td>A Clarksville Police Department officer pulled...</td>\n",
       "      <td>No</td>\n",
       "      <td>attack</td>\n",
       "      <td>Not fleeing</td>\n",
       "      <td>Pending investigation</td>\n",
       "    </tr>\n",
       "  </tbody>\n",
       "</table>\n",
       "</div>"
      ],
      "text/plain": [
       "       age  gender      race            armed victim_weapon cause_of_death  \\\n",
       "0       54  Female     White  Allegedly Armed         knife        Gunshot   \n",
       "1       49    Male     Black          Unclear  undetermined        Gunshot   \n",
       "2       31  Female  Hispanic          Vehicle       vehicle        Gunshot   \n",
       "3  Unknown    Male     White  Allegedly Armed           gun        Gunshot   \n",
       "4       56    Male     Asian  Allegedly Armed         knife        Gunshot   \n",
       "\n",
       "                                         description mental_illness  \\\n",
       "0  Around 10:35 p.m., officers responded to a cal...            Yes   \n",
       "1  Rockford Police Officer Jaimie Cox, 30, was ki...             No   \n",
       "2  Ruidoso police were dispatched to a residence ...             No   \n",
       "3  A couple was riding with an unidentified man, ...        Unknown   \n",
       "4  A Clarksville Police Department officer pulled...             No   \n",
       "\n",
       "   threat_level      fleeing              justified  \n",
       "0         other  Not fleeing  Pending investigation  \n",
       "1  undetermined          Car  Pending investigation  \n",
       "2        attack  Not fleeing  Pending investigation  \n",
       "3        attack  Not fleeing  Pending investigation  \n",
       "4        attack  Not fleeing  Pending investigation  "
      ]
     },
     "execution_count": 41,
     "metadata": {},
     "output_type": "execute_result"
    }
   ],
   "source": [
    "dfclean = df.loc[:,('age','gender','race','armed','victim_weapon','cause_of_death','description','mental_illness','threat_level','fleeing','justified')]\n",
    "dfclean.head()"
   ]
  },
  {
   "cell_type": "markdown",
   "metadata": {},
   "source": [
    "#### Creating binary variables for ease in analysis"
   ]
  },
  {
   "cell_type": "code",
   "execution_count": 42,
   "metadata": {
    "collapsed": true
   },
   "outputs": [],
   "source": [
    "dfclean['woman'] = (df.gender=='Female').astype(int)\n",
    "dfclean['man'] = (df.gender=='Male').astype(int)\n",
    "dfclean['white'] = (df.race=='White').astype(int)\n",
    "dfclean['black'] = (df.race=='Black').astype(int)\n",
    "dfclean['nonwhite'] = (df.race!='White').astype(int)"
   ]
  },
  {
   "cell_type": "code",
   "execution_count": 43,
   "metadata": {},
   "outputs": [
    {
     "data": {
      "text/plain": [
       "array(['Allegedly Armed', 'Unclear', 'Vehicle', 'Unarmed', nan], dtype=object)"
      ]
     },
     "execution_count": 43,
     "metadata": {},
     "output_type": "execute_result"
    }
   ],
   "source": [
    "#Possible values of 'armed'\n",
    "dfclean.armed.unique()"
   ]
  },
  {
   "cell_type": "code",
   "execution_count": 44,
   "metadata": {
    "collapsed": true
   },
   "outputs": [],
   "source": [
    "# Define 'armed' as clearly armed\n",
    "# Define 'unarmed' as clearly unarmed\n",
    "# Vehicle and unclear are the other possible values\n",
    "dfclean['armed'] = (df.armed=='Allegedly Armed').astype(int)\n",
    "dfclean['unarmed'] = (df.armed=='Unarmed').astype(int)"
   ]
  },
  {
   "cell_type": "code",
   "execution_count": 45,
   "metadata": {},
   "outputs": [
    {
     "data": {
      "text/plain": [
       "cause_of_death\n",
       "Gunshot               4754\n",
       "Vehicle                352\n",
       "Taser                  186\n",
       "Gunshot, Taser         178\n",
       "Physical restraint      63\n",
       "Medical Emergency       49\n",
       "Unknown                 22\n",
       "Beaten                  21\n",
       "Asphyxiated             11\n",
       "Physical Restraint       9\n",
       "Name: cause_of_death, dtype: int64"
      ]
     },
     "execution_count": 45,
     "metadata": {},
     "output_type": "execute_result"
    }
   ],
   "source": [
    "# The 10 most common causes of death\n",
    "df.groupby(['cause_of_death'])['cause_of_death'].count().sort_values(ascending=False)[0:10]"
   ]
  },
  {
   "cell_type": "markdown",
   "metadata": {},
   "source": [
    "#### Restrict to just cases where the intent to kill seems most likely: Beating and Gunshot\n",
    "#### The goal is to exclude accidental or incidental deaths"
   ]
  },
  {
   "cell_type": "code",
   "execution_count": 46,
   "metadata": {},
   "outputs": [
    {
     "name": "stderr",
     "output_type": "stream",
     "text": [
      "C:\\Users\\u5677455\\AppData\\Local\\Continuum\\Anaconda2\\envs\\py36\\lib\\site-packages\\ipykernel_launcher.py:1: UserWarning: This pattern has match groups. To actually get the groups, use str.extract.\n",
      "  \"\"\"Entry point for launching an IPython kernel.\n"
     ]
    },
    {
     "data": {
      "text/plain": [
       "cause_of_death\n",
       "Beaten                            21\n",
       "Beating                            4\n",
       "Gunshot                         4754\n",
       "Gunshot, Stabbed                   1\n",
       "Gunshot, Taser                   178\n",
       "Gunshot, Taser, Pepper spray       1\n",
       "Gunshot, Vehicle                   1\n",
       "Taser, Beaten                      1\n",
       "Name: cause_of_death, dtype: int64"
      ]
     },
     "execution_count": 46,
     "metadata": {},
     "output_type": "execute_result"
    }
   ],
   "source": [
    "dfclean['intentional'] = df.cause_of_death.str.contains('(Gunshot)|(Beat)').astype(int)\n",
    "dfclean = dfclean.loc[dfclean.intentional==1,:]\n",
    "dfclean.groupby(['cause_of_death'])['cause_of_death'].count()"
   ]
  },
  {
   "cell_type": "markdown",
   "metadata": {},
   "source": [
    "#### Here I'm running a Logit which tells whether the probability of belonging to a certain group makes it statistically more likely for you to be unarmed conditional on you being intentionally killed by the police"
   ]
  },
  {
   "cell_type": "code",
   "execution_count": 47,
   "metadata": {},
   "outputs": [
    {
     "name": "stdout",
     "output_type": "stream",
     "text": [
      "Optimization terminated successfully.\n",
      "         Current function value: 0.361331\n",
      "         Iterations 6\n",
      "                           Logit Regression Results                           \n",
      "==============================================================================\n",
      "Dep. Variable:                unarmed   No. Observations:                 4961\n",
      "Model:                          Logit   Df Residuals:                     4958\n",
      "Method:                           MLE   Df Model:                            2\n",
      "Date:                Thu, 16 Nov 2017   Pseudo R-squ.:                 0.01382\n",
      "Time:                        14:15:00   Log-Likelihood:                -1792.6\n",
      "converged:                       True   LL-Null:                       -1817.7\n",
      "                                        LLR p-value:                 1.231e-11\n",
      "==============================================================================\n",
      "                 coef    std err          z      P>|z|      [0.025      0.975]\n",
      "------------------------------------------------------------------------------\n",
      "Intercept     -2.1931      0.056    -39.259      0.000      -2.303      -2.084\n",
      "woman          0.9100      0.157      5.814      0.000       0.603       1.217\n",
      "black          0.4644      0.094      4.936      0.000       0.280       0.649\n",
      "==============================================================================\n"
     ]
    }
   ],
   "source": [
    "from statsmodels.formula.api import logit\n",
    "model = logit('unarmed ~ woman + black', dfclean).fit()\n",
    "print(model.summary())"
   ]
  },
  {
   "cell_type": "markdown",
   "metadata": {},
   "source": [
    "#### The findings here absolutely shocked me. Women are much more likely to be unarmed even compared with black individuals. The effect is statistically significant for both black and women."
   ]
  },
  {
   "cell_type": "code",
   "execution_count": 48,
   "metadata": {},
   "outputs": [
    {
     "data": {
      "text/plain": [
       "Text(0,0.5,'Percent of Victims Unarmed')"
      ]
     },
     "execution_count": 48,
     "metadata": {},
     "output_type": "execute_result"
    },
    {
     "data": {
      "image/png": "[encoded data removed]",
      "text/plain": [
       "<matplotlib.figure.Figure at 0xa5697f0>"
      ]
     },
     "metadata": {},
     "output_type": "display_data"
    }
   ],
   "source": [
    "plotdata = dfclean.groupby(['unarmed']).sum()\n",
    "plotdata = plotdata.loc[:,('black','woman','white','man')]\n",
    "plotdata = plotdata.append(plotdata.sum(),ignore_index=True)\n",
    "x = list(plotdata.columns)\n",
    "y = list(plotdata.loc[1]/plotdata.loc[2])\n",
    "plt.bar(x,y)\n",
    "plt.axis(ymax=.25)\n",
    "plt.ylabel('Percent of Victims Unarmed')"
   ]
  },
  {
   "cell_type": "code",
   "execution_count": 49,
   "metadata": {},
   "outputs": [
    {
     "data": {
      "text/html": [
       "<div>\n",
       "<style>\n",
       "    .dataframe thead tr:only-child th {\n",
       "        text-align: right;\n",
       "    }\n",
       "\n",
       "    .dataframe thead th {\n",
       "        text-align: left;\n",
       "    }\n",
       "\n",
       "    .dataframe tbody tr th {\n",
       "        vertical-align: top;\n",
       "    }\n",
       "</style>\n",
       "<table border=\"1\" class=\"dataframe\">\n",
       "  <thead>\n",
       "    <tr style=\"text-align: right;\">\n",
       "      <th></th>\n",
       "      <th>woman</th>\n",
       "      <th>man</th>\n",
       "      <th>white</th>\n",
       "      <th>black</th>\n",
       "    </tr>\n",
       "    <tr>\n",
       "      <th>unarmed</th>\n",
       "      <th></th>\n",
       "      <th></th>\n",
       "      <th></th>\n",
       "      <th></th>\n",
       "    </tr>\n",
       "  </thead>\n",
       "  <tbody>\n",
       "    <tr>\n",
       "      <th>0</th>\n",
       "      <td>194</td>\n",
       "      <td>4160</td>\n",
       "      <td>2023</td>\n",
       "      <td>1085</td>\n",
       "    </tr>\n",
       "    <tr>\n",
       "      <th>1</th>\n",
       "      <td>59</td>\n",
       "      <td>535</td>\n",
       "      <td>255</td>\n",
       "      <td>201</td>\n",
       "    </tr>\n",
       "  </tbody>\n",
       "</table>\n",
       "</div>"
      ],
      "text/plain": [
       "         woman   man  white  black\n",
       "unarmed                           \n",
       "0          194  4160   2023   1085\n",
       "1           59   535    255    201"
      ]
     },
     "execution_count": 49,
     "metadata": {},
     "output_type": "execute_result"
    }
   ],
   "source": [
    "# raw count numbers for how many were killed while unarmed or otherwise for each group\n",
    "dfclean.groupby(['unarmed'])['woman','man','white','black'].sum()"
   ]
  },
  {
   "cell_type": "code",
   "execution_count": 50,
   "metadata": {},
   "outputs": [
    {
     "data": {
      "text/plain": [
       "black    0.156299\n",
       "woman    0.233202\n",
       "white    0.111940\n",
       "man      0.113951\n",
       "dtype: float64"
      ]
     },
     "execution_count": 50,
     "metadata": {},
     "output_type": "execute_result"
    }
   ],
   "source": [
    "# probabilities of being unarmed when killed\n",
    "plotdata.loc[1]/plotdata.loc[2]"
   ]
  },
  {
   "cell_type": "markdown",
   "metadata": {},
   "source": [
    "#### This bar chart shows that the chance of being unarmed conditional on being intentionally killed is 23% for women compared to about 11% for men and about 16% for black. \n",
    "#### The difference between men and women is 12% while the difference between white and black is 5%. So if we are looking for patterns of injustice, women seem to stand out more than any other group.\n",
    "#### Police killing unarmed women at this rate is difficult to rationalize because I'd expect an unarmed man to be more dangerous than an unarmed woman on average. So if the police are killing in reponse to feeling threatened, you'd expect the portion of unarmed women to be much lower, and this was my expectation coming in."
   ]
  },
  {
   "cell_type": "markdown",
   "metadata": {},
   "source": [
    "## So what's different about the encounters with women that could possibly explain this?"
   ]
  },
  {
   "cell_type": "code",
   "execution_count": 51,
   "metadata": {},
   "outputs": [
    {
     "data": {
      "text/plain": [
       "mental_illness\n",
       "Drug or alcohol use     261\n",
       "No                     3298\n",
       "Unknown                1070\n",
       "Unknown                   2\n",
       "Yes                    1056\n",
       "unknown                   1\n",
       "yes                       1\n",
       "Name: mental_illness, dtype: int64"
      ]
     },
     "execution_count": 51,
     "metadata": {},
     "output_type": "execute_result"
    }
   ],
   "source": [
    "# Looking into mental illness commonality\n",
    "df.groupby(['mental_illness'])['mental_illness'].count()"
   ]
  },
  {
   "cell_type": "code",
   "execution_count": 52,
   "metadata": {},
   "outputs": [
    {
     "data": {
      "text/plain": [
       "victim_weapon  armed          \n",
       "gun            Allegedly Armed    1596\n",
       "knife          Allegedly Armed     424\n",
       "unarmed        Unarmed             355\n",
       "vehicle        Vehicle             268\n",
       "undetermined   Unclear             143\n",
       "toy            Unarmed             108\n",
       "passenger      Vehicle              88\n",
       "machete        Allegedly Armed      24\n",
       "sword          Allegedly Armed      11\n",
       "baseball bat   Allegedly Armed       9\n",
       "Name: victim_weapon, dtype: int64"
      ]
     },
     "execution_count": 52,
     "metadata": {},
     "output_type": "execute_result"
    }
   ],
   "source": [
    "# The most common weapons for the eventual victims\n",
    "df.groupby(['victim_weapon','armed'])['victim_weapon'].count().sort_values(ascending=False)[0:10]"
   ]
  },
  {
   "cell_type": "code",
   "execution_count": 53,
   "metadata": {},
   "outputs": [
    {
     "data": {
      "text/html": [
       "<div>\n",
       "<style>\n",
       "    .dataframe thead tr:only-child th {\n",
       "        text-align: right;\n",
       "    }\n",
       "\n",
       "    .dataframe thead th {\n",
       "        text-align: left;\n",
       "    }\n",
       "\n",
       "    .dataframe tbody tr th {\n",
       "        vertical-align: top;\n",
       "    }\n",
       "</style>\n",
       "<table border=\"1\" class=\"dataframe\">\n",
       "  <thead>\n",
       "    <tr style=\"text-align: right;\">\n",
       "      <th></th>\n",
       "      <th>armed</th>\n",
       "      <th>woman</th>\n",
       "      <th>man</th>\n",
       "      <th>white</th>\n",
       "      <th>black</th>\n",
       "      <th>nonwhite</th>\n",
       "      <th>unarmed</th>\n",
       "      <th>intentional</th>\n",
       "    </tr>\n",
       "  </thead>\n",
       "  <tbody>\n",
       "    <tr>\n",
       "      <th>armed</th>\n",
       "      <td>1.000000</td>\n",
       "      <td>-0.064697</td>\n",
       "      <td>0.061153</td>\n",
       "      <td>0.045424</td>\n",
       "      <td>-0.071508</td>\n",
       "      <td>-0.045424</td>\n",
       "      <td>-0.680636</td>\n",
       "      <td>NaN</td>\n",
       "    </tr>\n",
       "    <tr>\n",
       "      <th>woman</th>\n",
       "      <td>-0.064697</td>\n",
       "      <td>1.000000</td>\n",
       "      <td>-0.973910</td>\n",
       "      <td>0.058519</td>\n",
       "      <td>-0.040947</td>\n",
       "      <td>-0.058519</td>\n",
       "      <td>0.081021</td>\n",
       "      <td>NaN</td>\n",
       "    </tr>\n",
       "    <tr>\n",
       "      <th>man</th>\n",
       "      <td>0.061153</td>\n",
       "      <td>-0.973910</td>\n",
       "      <td>1.000000</td>\n",
       "      <td>-0.051819</td>\n",
       "      <td>0.040745</td>\n",
       "      <td>0.051819</td>\n",
       "      <td>-0.074836</td>\n",
       "      <td>NaN</td>\n",
       "    </tr>\n",
       "    <tr>\n",
       "      <th>white</th>\n",
       "      <td>0.045424</td>\n",
       "      <td>0.058519</td>\n",
       "      <td>-0.051819</td>\n",
       "      <td>1.000000</td>\n",
       "      <td>-0.545078</td>\n",
       "      <td>-1.000000</td>\n",
       "      <td>-0.022120</td>\n",
       "      <td>NaN</td>\n",
       "    </tr>\n",
       "    <tr>\n",
       "      <th>black</th>\n",
       "      <td>-0.071508</td>\n",
       "      <td>-0.040947</td>\n",
       "      <td>0.040745</td>\n",
       "      <td>-0.545078</td>\n",
       "      <td>1.000000</td>\n",
       "      <td>0.545078</td>\n",
       "      <td>0.066625</td>\n",
       "      <td>NaN</td>\n",
       "    </tr>\n",
       "    <tr>\n",
       "      <th>nonwhite</th>\n",
       "      <td>-0.045424</td>\n",
       "      <td>-0.058519</td>\n",
       "      <td>0.051819</td>\n",
       "      <td>-1.000000</td>\n",
       "      <td>0.545078</td>\n",
       "      <td>1.000000</td>\n",
       "      <td>0.022120</td>\n",
       "      <td>NaN</td>\n",
       "    </tr>\n",
       "    <tr>\n",
       "      <th>unarmed</th>\n",
       "      <td>-0.680636</td>\n",
       "      <td>0.081021</td>\n",
       "      <td>-0.074836</td>\n",
       "      <td>-0.022120</td>\n",
       "      <td>0.066625</td>\n",
       "      <td>0.022120</td>\n",
       "      <td>1.000000</td>\n",
       "      <td>NaN</td>\n",
       "    </tr>\n",
       "    <tr>\n",
       "      <th>intentional</th>\n",
       "      <td>NaN</td>\n",
       "      <td>NaN</td>\n",
       "      <td>NaN</td>\n",
       "      <td>NaN</td>\n",
       "      <td>NaN</td>\n",
       "      <td>NaN</td>\n",
       "      <td>NaN</td>\n",
       "      <td>NaN</td>\n",
       "    </tr>\n",
       "  </tbody>\n",
       "</table>\n",
       "</div>"
      ],
      "text/plain": [
       "                armed     woman       man     white     black  nonwhite  \\\n",
       "armed        1.000000 -0.064697  0.061153  0.045424 -0.071508 -0.045424   \n",
       "woman       -0.064697  1.000000 -0.973910  0.058519 -0.040947 -0.058519   \n",
       "man          0.061153 -0.973910  1.000000 -0.051819  0.040745  0.051819   \n",
       "white        0.045424  0.058519 -0.051819  1.000000 -0.545078 -1.000000   \n",
       "black       -0.071508 -0.040947  0.040745 -0.545078  1.000000  0.545078   \n",
       "nonwhite    -0.045424 -0.058519  0.051819 -1.000000  0.545078  1.000000   \n",
       "unarmed     -0.680636  0.081021 -0.074836 -0.022120  0.066625  0.022120   \n",
       "intentional       NaN       NaN       NaN       NaN       NaN       NaN   \n",
       "\n",
       "              unarmed  intentional  \n",
       "armed       -0.680636          NaN  \n",
       "woman        0.081021          NaN  \n",
       "man         -0.074836          NaN  \n",
       "white       -0.022120          NaN  \n",
       "black        0.066625          NaN  \n",
       "nonwhite     0.022120          NaN  \n",
       "unarmed      1.000000          NaN  \n",
       "intentional       NaN          NaN  "
      ]
     },
     "execution_count": 53,
     "metadata": {},
     "output_type": "execute_result"
    }
   ],
   "source": [
    "# Correlation table\n",
    "dfclean.corr()"
   ]
  },
  {
   "cell_type": "markdown",
   "metadata": {},
   "source": [
    "#### Choose a random 10 descriptions of an incident where the victim was an unarmed woman and print out the description"
   ]
  },
  {
   "cell_type": "code",
   "execution_count": 54,
   "metadata": {},
   "outputs": [
    {
     "name": "stdout",
     "output_type": "stream",
     "text": [
      "Police said Beaty threatened a man with a toy gun when they shot and killed her.\n",
      "1909\n",
      "\n",
      "Borden, who suffered from a number of mental illnesses and depression, shot and killed his wife, two children, mother-in-law and himself.\n",
      "4517\n",
      "\n",
      "The bodies of Capt. Rick Moore and Westminster City Clerk Amanda Jensen were found in Moore's apartment after police responded to a 911 call.\n",
      "347\n",
      "\n",
      "After a burglary and chase, passenger Ambrosia Fagre and driver Kadhar Bailey were shot and killed by police after their car allegedly hit a Maine State Police cruiser.\n",
      "872\n",
      "\n",
      "A South Gate police officer and his wife were found fatally shot at their Long Beach condo, and police said the double shooting was under investigation as a possible murder-suicide. Police were called to a possible domestic violence incident. The condo?s door was ajar, and inside, officers found Kyle Kurian, 25, and his wife, Greta Kurian, 22, with gunshot wounds in their upper torsos. Greta Kurian was pronounced dead at the scene. Her husband, a rookie South Gate police officer, was taken to a hospital, where he was pronounced dead.\n",
      "1144\n",
      "\n",
      "Sandoval-Jiminez was in the back seat of a car fleeing a robbery. The robbers entered a restaurant and demanded cash, cell phones and wallets. They pistol-whipped the workers. A deputy arrived at the restaurant and saw two masked men enter a vehicle parked south of the scene. As the deputy pursued them, the driver drove the vehicle toward him. Two officers fired into the vehicle, killing Sandoval-Jiminez.\n",
      "4240\n",
      "\n",
      "Footage shows the officer pursuing an SUV allegedly driven by Thomas. Right after Thomas crosses Black Olive Drive, the SUV flips and passenger and Ehorn is ejected.Feaster calls in the accident, gets out of the car, and shoots Thomas as he is attempting to exit the SUV out of the passenger side window. Thomas slumps back down into the vehicle. Ehorn died at the scene.\n",
      "2290\n",
      "\n",
      "Sherlon Smikle, an off-duty NYPD officer fatally blasted his wife, Lana Morris, with a shotgun on their Queens street, then went inside and turned the weapon on himself.\n",
      "5243\n",
      "\n",
      "Pregnant Alteria Woods was shot and killed during a gun battle that resulted from a drug raid. She was inside the house, but was not the person police were after.\n",
      "745\n",
      "\n",
      "Police Lt. T.J. Smith said when Turpin went to speak to that woman, she assaulted and tried to choke Turpin. The woman was identified as Angela Randolph, 38, of no fixed address.\n",
      "4069\n",
      "\n"
     ]
    }
   ],
   "source": [
    "fvictims = df.loc[(df['gender']==\"Female\") & (df['armed']=='Unarmed') & (df['cause_of_death']=='Gunshot'),'description']\n",
    "\n",
    "for x in range(10):\n",
    "    rando = np.random.randint(0,len(fvictims))\n",
    "    print(fvictims[fvictims.index[rando]])\n",
    "    print(str(fvictims.index[rando]) + '\\n')\n"
   ]
  },
  {
   "cell_type": "markdown",
   "metadata": {},
   "source": [
    "#### After spending a while reading through descriptions, it's clear that many of the 'unarmed' incidents are caused by fake guns like BB guns. That seems to affect both men and women. One thing that only affects women is that whenever an officer kills their wife/girlfriend, it shows up on this report as a police killing despite the fact that it's off-duty. This needs to be corrected for because it's almost certainly skewing the results.\n",
    "#### The data is honestly pretty noisy with quite a few accidents where men are classified as women, victims who weren't shot but killed in an incident involving a shooting, etc. This will be difficult to correct, and I can just hope that the mistakes are random and uncorrelated to the unarmed stats I'm investigating. I have no reason so far to believe otherwise.\n",
    "#### I haven't been able to think of a good way of controlling this (and I'm not sure it should be controlled for), but it's clear that many female victims are involved in the altercations because of their close relationship with a criminal. The girlfriend is in the passenger seat, boyfriend tries to ram police, police fire and hit the girlfriend. That sort of thing."
   ]
  },
  {
   "cell_type": "markdown",
   "metadata": {},
   "source": [
    "#### Here I'm going to further restrict the data by excluding murder in domestic violence cases. The particular words I'm using are  'wife', 'girlfriend', and 'mother' along with 'murder' appearing under the 'justified' variable. It's not perfect but better for sure. I'll see if this correction alleviates the discrepancy we're seeing."
   ]
  },
  {
   "cell_type": "code",
   "execution_count": 56,
   "metadata": {},
   "outputs": [
    {
     "name": "stderr",
     "output_type": "stream",
     "text": [
      "C:\\Users\\u5677455\\AppData\\Local\\Continuum\\Anaconda2\\envs\\py36\\lib\\site-packages\\ipykernel_launcher.py:7: UserWarning: This pattern has match groups. To actually get the groups, use str.extract.\n",
      "  import sys\n"
     ]
    }
   ],
   "source": [
    "# This is very tricky. On one hand I could just read through these and tag the ones that are clearly domestic violence, but then I'm ignoring all such deaths on the male and armed side of things, and there are too many of those to go through manually. I have to rely here on the tag 'murder' appearing under justified which isn't ideal since it takes a while for the courts to rule on cases like this.\n",
    "\n",
    "# Generating description length since almost all cases of officer killing parter has extremely short description\n",
    "dfclean['deslength'] = df.description.str.len()\n",
    "\n",
    "\n",
    "dfclean['domesticViolence'] = (df.justified.str.contains('([Mm]urder)|(Unreported)|(Pending investigation)|(Accidental)')) & (df.description.str.contains('([Ww]ife)|([Gg]irlfriend)|([Mm]other)|([Bb]oyfriend)|([Hh]usband)') & (df.threat_level!='attack') & (df.gender=='Female') & (dfclean.deslength<400) & (df.armed!='Allegedly Armed'))"
   ]
  },
  {
   "cell_type": "code",
   "execution_count": 57,
   "metadata": {},
   "outputs": [
    {
     "data": {
      "text/plain": [
       "gender\n",
       "Female         17.0\n",
       "Male            0.0\n",
       "Transgender     0.0\n",
       "Unknown         0.0\n",
       "Name: domesticViolence, dtype: float64"
      ]
     },
     "execution_count": 57,
     "metadata": {},
     "output_type": "execute_result"
    }
   ],
   "source": [
    "# Number of victims of domestic violence killings by gender\n",
    "# I'm clearly getting a bunch of cases where it wasn't the officer who killed his wife/girlfriend, as evidenced by all the male cases, but I think excluding those as well can still help paint this picture by making sure I'm not including things like officers killing their family\n",
    "dfclean.groupby(['gender'])['domesticViolence'].sum()"
   ]
  },
  {
   "cell_type": "markdown",
   "metadata": {},
   "source": [
    "#### Here I'm printing out a random 10 cases just to be convinced that I'm indeed only identifying domestic violence cases where the officer kills his significant other. This seems to do very well. I have a couple false positives and there are most certainly a few false negatives but this is at least a good start in removing cases where an officer kills his sig other."
   ]
  },
  {
   "cell_type": "code",
   "execution_count": 58,
   "metadata": {},
   "outputs": [
    {
     "name": "stdout",
     "output_type": "stream",
     "text": [
      "Granville County Sheriff's Deputy Jeremy S. Pearce, and his wife, Rebecka J. Pearce, were found shot dead at a house in Fuquay-Varina in a case of domestic violence.\n",
      "Victim gender: Female\n",
      "Justified: Murder/suicide\n",
      "Fleeing: Not fleeing\n",
      "Threat level: other\n",
      "Victim weapon: unarmed\n",
      "Row number: 1177\n",
      "\n",
      "Suspect Marcas McGowan abducted young Harris away from her mother, from a home the three shared, and led police on a high-speed chase that ended with him wounded and Harris in the back seat, shot to death. Slow and loathe to make any admissions, police and prosecutor reports have gradually revealed that she died from police bullets -- but he has been charged for her murder.\n",
      "Victim gender: Female\n",
      "Justified: Unreported\n",
      "Fleeing: nan\n",
      "Threat level: nan\n",
      "Victim weapon: nan\n",
      "Row number: 3930\n",
      "\n",
      "Borden, who suffered from a number of mental illnesses and depression, shot and killed his wife, two children, mother-in-law and himself.\n",
      "Victim gender: Female\n",
      "Justified: Murder/suicide\n",
      "Fleeing: nan\n",
      "Threat level: nan\n",
      "Victim weapon: nan\n",
      "Row number: 4519\n",
      "\n",
      "Off duty Chris Smith got in an argument with his wife Amber Noelle Smith, he then shot and killed her then himself.\n",
      "Victim gender: Female\n",
      "Justified: Unreported\n",
      "Fleeing: nan\n",
      "Threat level: nan\n",
      "Victim weapon: nan\n",
      "Row number: 4201\n",
      "\n",
      "Calhoun County Sheriff's Deputy Mark Elferdink, 43, apparently murdered his wife, Hope Elferdink, 38, before committing suicide.\n",
      "Victim gender: Female\n",
      "Justified: Pending investigation\n",
      "Fleeing: Not fleeing\n",
      "Threat level: other\n",
      "Victim weapon: unarmed\n",
      "Row number: 1674\n",
      "\n",
      "Woodard was fatally shot multiple times by her former boyfriend, an Atlanta police officer named Tahreem Zeus Rana. After being caught trying to fly to Mexico, Rana faced charges of murder, kidnapping, and a charge of arson for setting Woodard's dead body on fire in an attempt to obscure evidence.\n",
      "Victim gender: Female\n",
      "Justified: Charged, Convicted of felony murder, Sentenced to life without parole, plus 16 years\n",
      "Fleeing: nan\n",
      "Threat level: nan\n",
      "Victim weapon: nan\n",
      "Row number: 3805\n",
      "\n",
      "Granville County Sheriff's Deputy Jeremy S. Pearce, and his wife, Rebecka J. Pearce, were found shot dead at a house in Fuquay-Varina in a case of domestic violence.\n",
      "Victim gender: Female\n",
      "Justified: Murder/suicide\n",
      "Fleeing: Not fleeing\n",
      "Threat level: other\n",
      "Victim weapon: unarmed\n",
      "Row number: 1177\n",
      "\n",
      "District 3 police officer Leon Davis killed his wife, Sherida Davis, before turning the gun on himself inside the couple's home.\n",
      "Victim gender: Female\n",
      "Justified: Murder/suicide\n",
      "Fleeing: Not fleeing\n",
      "Threat level: other\n",
      "Victim weapon: unarmed\n",
      "Row number: 775\n",
      "\n",
      "Ivy Thibodeaux, a reserve officer with the Addis Police Department, shot and killed his wife, Emily Thibodeaux, according to a spokesman for the State Police. No arrests have been made in the shooting, Lee said.\n",
      "Victim gender: Female\n",
      "Justified: Pending investigation\n",
      "Fleeing: Not fleeing\n",
      "Threat level: other\n",
      "Victim weapon: unarmed\n",
      "Row number: 2059\n",
      "\n",
      "Montebello police fatally shot a woman after she drove her car toward an officer and her boyfriend, whom she had been fighting with earlier in the day, police said.\n",
      "Victim gender: Female\n",
      "Justified: Pending investigation\n",
      "Fleeing: Not fleeing\n",
      "Threat level: other\n",
      "Victim weapon: vehicle\n",
      "Row number: 457\n",
      "\n"
     ]
    }
   ],
   "source": [
    "domvio = dfclean.loc[dfclean.domesticViolence==1,:]\n",
    "\n",
    "for x in range(10):\n",
    "    rando = np.random.randint(0,len(domvio))\n",
    "    print(domvio.loc[domvio.index[rando],'description'])\n",
    "    print('Victim gender: ' + str(domvio.loc[domvio.index[rando],'gender']))\n",
    "    print('Justified: ' + str(domvio.loc[domvio.index[rando],'justified']))\n",
    "    print('Fleeing: ' + str(domvio.loc[domvio.index[rando],'fleeing']))\n",
    "    print('Threat level: ' + str(domvio.loc[domvio.index[rando],'threat_level']))\n",
    "    print('Victim weapon: ' + str(domvio.loc[domvio.index[rando],'victim_weapon']))\n",
    "    print('Row number: ' + str(domvio.index[rando]) + '\\n')"
   ]
  },
  {
   "cell_type": "code",
   "execution_count": 59,
   "metadata": {},
   "outputs": [
    {
     "name": "stdout",
     "output_type": "stream",
     "text": [
      "Optimization terminated successfully.\n",
      "         Current function value: 0.357493\n",
      "         Iterations 6\n",
      "                           Logit Regression Results                           \n",
      "==============================================================================\n",
      "Dep. Variable:                unarmed   No. Observations:                 4944\n",
      "Model:                          Logit   Df Residuals:                     4941\n",
      "Method:                           MLE   Df Model:                            2\n",
      "Date:                Thu, 16 Nov 2017   Pseudo R-squ.:                0.008951\n",
      "Time:                        14:15:36   Log-Likelihood:                -1767.4\n",
      "converged:                       True   LL-Null:                       -1783.4\n",
      "                                        LLR p-value:                 1.168e-07\n",
      "==============================================================================\n",
      "                 coef    std err          z      P>|z|      [0.025      0.975]\n",
      "------------------------------------------------------------------------------\n",
      "Intercept     -2.1926      0.056    -39.166      0.000      -2.302      -2.083\n",
      "woman          0.5987      0.176      3.410      0.001       0.255       0.943\n",
      "black          0.4628      0.095      4.883      0.000       0.277       0.649\n",
      "==============================================================================\n"
     ]
    }
   ],
   "source": [
    "model = logit('unarmed ~ woman + black', dfclean.loc[dfclean.domesticViolence==0,:]).fit()\n",
    "print(model.summary())"
   ]
  },
  {
   "cell_type": "code",
   "execution_count": 60,
   "metadata": {},
   "outputs": [
    {
     "data": {
      "text/plain": [
       "Text(0,0.5,'Percent of Victims Unarmed')"
      ]
     },
     "execution_count": 60,
     "metadata": {},
     "output_type": "execute_result"
    },
    {
     "data": {
      "image/png": "[encoded data removed]",
      "text/plain": [
       "<matplotlib.figure.Figure at 0x57365c0>"
      ]
     },
     "metadata": {},
     "output_type": "display_data"
    }
   ],
   "source": [
    "plotdata = dfclean.loc[dfclean.domesticViolence==0,:].groupby(['unarmed']).sum()\n",
    "plotdata = plotdata.loc[:,('black','woman','white','man')]\n",
    "plotdata = plotdata.append(plotdata.sum(),ignore_index=True)\n",
    "x = list(plotdata.columns)\n",
    "y = list(plotdata.loc[1]/plotdata.loc[2])\n",
    "plt.bar(x,y)\n",
    "plt.axis(ymax=.25)\n",
    "plt.ylabel('Percent of Victims Unarmed')"
   ]
  },
  {
   "cell_type": "code",
   "execution_count": 61,
   "metadata": {},
   "outputs": [
    {
     "data": {
      "text/html": [
       "<div>\n",
       "<style>\n",
       "    .dataframe thead tr:only-child th {\n",
       "        text-align: right;\n",
       "    }\n",
       "\n",
       "    .dataframe thead th {\n",
       "        text-align: left;\n",
       "    }\n",
       "\n",
       "    .dataframe tbody tr th {\n",
       "        vertical-align: top;\n",
       "    }\n",
       "</style>\n",
       "<table border=\"1\" class=\"dataframe\">\n",
       "  <thead>\n",
       "    <tr style=\"text-align: right;\">\n",
       "      <th></th>\n",
       "      <th>armed</th>\n",
       "      <th>woman</th>\n",
       "      <th>man</th>\n",
       "      <th>white</th>\n",
       "      <th>black</th>\n",
       "      <th>nonwhite</th>\n",
       "      <th>intentional</th>\n",
       "      <th>deslength</th>\n",
       "      <th>domesticViolence</th>\n",
       "    </tr>\n",
       "    <tr>\n",
       "      <th>unarmed</th>\n",
       "      <th></th>\n",
       "      <th></th>\n",
       "      <th></th>\n",
       "      <th></th>\n",
       "      <th></th>\n",
       "      <th></th>\n",
       "      <th></th>\n",
       "      <th></th>\n",
       "      <th></th>\n",
       "    </tr>\n",
       "  </thead>\n",
       "  <tbody>\n",
       "    <tr>\n",
       "      <th>0</th>\n",
       "      <td>3835</td>\n",
       "      <td>193</td>\n",
       "      <td>4160</td>\n",
       "      <td>2023</td>\n",
       "      <td>1085</td>\n",
       "      <td>2343</td>\n",
       "      <td>4366</td>\n",
       "      <td>1166405.0</td>\n",
       "      <td>False</td>\n",
       "    </tr>\n",
       "    <tr>\n",
       "      <th>1</th>\n",
       "      <td>0</td>\n",
       "      <td>43</td>\n",
       "      <td>535</td>\n",
       "      <td>244</td>\n",
       "      <td>197</td>\n",
       "      <td>334</td>\n",
       "      <td>578</td>\n",
       "      <td>165667.0</td>\n",
       "      <td>False</td>\n",
       "    </tr>\n",
       "  </tbody>\n",
       "</table>\n",
       "</div>"
      ],
      "text/plain": [
       "         armed  woman   man  white  black  nonwhite  intentional  deslength  \\\n",
       "unarmed                                                                       \n",
       "0         3835    193  4160   2023   1085      2343         4366  1166405.0   \n",
       "1            0     43   535    244    197       334          578   165667.0   \n",
       "\n",
       "         domesticViolence  \n",
       "unarmed                    \n",
       "0                   False  \n",
       "1                   False  "
      ]
     },
     "execution_count": 61,
     "metadata": {},
     "output_type": "execute_result"
    }
   ],
   "source": [
    "dfclean.loc[dfclean.domesticViolence==0,:].groupby(['unarmed']).sum()"
   ]
  },
  {
   "cell_type": "markdown",
   "metadata": {},
   "source": [
    "#### Looks like there's still a large discrepancy where women are more likely to be unarmed. "
   ]
  },
  {
   "cell_type": "markdown",
   "metadata": {},
   "source": [
    "## Correcting for Fake Guns\n",
    "#### If you think that things like BB guns don't exactly qualify a case as 'unarmed' then I'm going to exclude 'fake gun' cases and see if this changes things."
   ]
  },
  {
   "cell_type": "code",
   "execution_count": 62,
   "metadata": {},
   "outputs": [],
   "source": [
    "dfclean['fakegun'] = (dfclean.victim_weapon=='toy').astype(int)\n",
    "temp = dfclean.loc[dfclean.victim_weapon=='toy','description']"
   ]
  },
  {
   "cell_type": "markdown",
   "metadata": {},
   "source": [
    "#### It looks like the fake gun phenomena is common for both genders"
   ]
  },
  {
   "cell_type": "code",
   "execution_count": 63,
   "metadata": {},
   "outputs": [
    {
     "data": {
      "text/plain": [
       "gender\n",
       "Female           7\n",
       "Male           101\n",
       "Transgender      0\n",
       "Unknown          0\n",
       "Name: fakegun, dtype: int32"
      ]
     },
     "execution_count": 63,
     "metadata": {},
     "output_type": "execute_result"
    }
   ],
   "source": [
    "dfclean.groupby(['gender'])['fakegun'].sum()"
   ]
  },
  {
   "cell_type": "code",
   "execution_count": 64,
   "metadata": {},
   "outputs": [],
   "source": [
    "# Here I'm changing the 'armed' status to 'unclear' for the toy gun scenario\n",
    "dfclean.loc[dfclean.fakegun==1,'unarmed'] = 0"
   ]
  },
  {
   "cell_type": "code",
   "execution_count": 65,
   "metadata": {},
   "outputs": [
    {
     "data": {
      "text/plain": [
       "Text(0,0.5,'Percent of Victims Unarmed')"
      ]
     },
     "execution_count": 65,
     "metadata": {},
     "output_type": "execute_result"
    },
    {
     "data": {
      "image/png": "[encoded data removed]",
      "text/plain": [
       "<matplotlib.figure.Figure at 0xcd673c8>"
      ]
     },
     "metadata": {},
     "output_type": "display_data"
    }
   ],
   "source": [
    "plotdata = dfclean.loc[(dfclean.domesticViolence==0) & (dfclean.fakegun==0),:].groupby(['unarmed']).sum()\n",
    "plotdata = plotdata.loc[:,('black','woman','white','man')]\n",
    "plotdata = plotdata.append(plotdata.sum(),ignore_index=True)\n",
    "x = list(plotdata.columns)\n",
    "y = list(plotdata.loc[1]/plotdata.loc[2])\n",
    "plt.bar(x,y)\n",
    "plt.axis(ymax=.20)\n",
    "plt.ylabel('Percent of Victims Unarmed')"
   ]
  },
  {
   "cell_type": "code",
   "execution_count": 66,
   "metadata": {},
   "outputs": [
    {
     "name": "stdout",
     "output_type": "stream",
     "text": [
      "Percent increase in risk for black over white: 65.0%\n",
      "Percent increase in risk for female over male: 66.0%\n"
     ]
    }
   ],
   "source": [
    "print('Percent increase in risk for black over white: ' + str(np.around(y[0]*100/y[2] - 100)) + '%\\n' + 'Percent increase in risk for female over male: ' + str(np.around(y[1]*100/y[3] - 100)) + '%')"
   ]
  },
  {
   "cell_type": "code",
   "execution_count": 67,
   "metadata": {},
   "outputs": [
    {
     "name": "stdout",
     "output_type": "stream",
     "text": [
      "Optimization terminated successfully.\n",
      "         Current function value: 0.314969\n",
      "         Iterations 6\n",
      "                           Logit Regression Results                           \n",
      "==============================================================================\n",
      "Dep. Variable:                unarmed   No. Observations:                 4836\n",
      "Model:                          Logit   Df Residuals:                     4833\n",
      "Method:                           MLE   Df Model:                            2\n",
      "Date:                Thu, 16 Nov 2017   Pseudo R-squ.:                 0.01220\n",
      "Time:                        14:15:43   Log-Likelihood:                -1523.2\n",
      "converged:                       True   LL-Null:                       -1542.0\n",
      "                                        LLR p-value:                 6.739e-09\n",
      "==============================================================================\n",
      "                 coef    std err          z      P>|z|      [0.025      0.975]\n",
      "------------------------------------------------------------------------------\n",
      "Intercept     -2.4387      0.063    -38.994      0.000      -2.561      -2.316\n",
      "woman          0.6419      0.190      3.386      0.001       0.270       1.013\n",
      "black          0.5651      0.102      5.518      0.000       0.364       0.766\n",
      "==============================================================================\n"
     ]
    }
   ],
   "source": [
    "model = logit('unarmed ~ woman + black',dfclean.loc[(dfclean.domesticViolence==0) & (dfclean.fakegun==0),:]).fit()\n",
    "print(model.summary())"
   ]
  },
  {
   "cell_type": "markdown",
   "metadata": {},
   "source": [
    "#### Women are still the most at-risk group, but it's not quite as drastic as before"
   ]
  },
  {
   "cell_type": "markdown",
   "metadata": {},
   "source": [
    "## Mentally impaired whether through drugs or illness"
   ]
  },
  {
   "cell_type": "code",
   "execution_count": 68,
   "metadata": {},
   "outputs": [
    {
     "data": {
      "text/html": [
       "<div>\n",
       "<style>\n",
       "    .dataframe thead tr:only-child th {\n",
       "        text-align: right;\n",
       "    }\n",
       "\n",
       "    .dataframe thead th {\n",
       "        text-align: left;\n",
       "    }\n",
       "\n",
       "    .dataframe tbody tr th {\n",
       "        vertical-align: top;\n",
       "    }\n",
       "</style>\n",
       "<table border=\"1\" class=\"dataframe\">\n",
       "  <thead>\n",
       "    <tr style=\"text-align: right;\">\n",
       "      <th></th>\n",
       "      <th>armed</th>\n",
       "      <th>woman</th>\n",
       "      <th>man</th>\n",
       "      <th>white</th>\n",
       "      <th>black</th>\n",
       "      <th>nonwhite</th>\n",
       "      <th>unarmed</th>\n",
       "      <th>intentional</th>\n",
       "      <th>deslength</th>\n",
       "      <th>domesticViolence</th>\n",
       "      <th>fakegun</th>\n",
       "    </tr>\n",
       "    <tr>\n",
       "      <th>mental_illness</th>\n",
       "      <th></th>\n",
       "      <th></th>\n",
       "      <th></th>\n",
       "      <th></th>\n",
       "      <th></th>\n",
       "      <th></th>\n",
       "      <th></th>\n",
       "      <th></th>\n",
       "      <th></th>\n",
       "      <th></th>\n",
       "      <th></th>\n",
       "    </tr>\n",
       "  </thead>\n",
       "  <tbody>\n",
       "    <tr>\n",
       "      <th>Drug or alcohol use</th>\n",
       "      <td>126</td>\n",
       "      <td>6</td>\n",
       "      <td>179</td>\n",
       "      <td>111</td>\n",
       "      <td>26</td>\n",
       "      <td>74</td>\n",
       "      <td>32</td>\n",
       "      <td>185</td>\n",
       "      <td>57227.0</td>\n",
       "      <td>False</td>\n",
       "      <td>0</td>\n",
       "    </tr>\n",
       "    <tr>\n",
       "      <th>No</th>\n",
       "      <td>2162</td>\n",
       "      <td>103</td>\n",
       "      <td>2679</td>\n",
       "      <td>1105</td>\n",
       "      <td>861</td>\n",
       "      <td>1683</td>\n",
       "      <td>276</td>\n",
       "      <td>2788</td>\n",
       "      <td>741293.0</td>\n",
       "      <td>False</td>\n",
       "      <td>0</td>\n",
       "    </tr>\n",
       "    <tr>\n",
       "      <th>Unknown</th>\n",
       "      <td>726</td>\n",
       "      <td>48</td>\n",
       "      <td>865</td>\n",
       "      <td>435</td>\n",
       "      <td>218</td>\n",
       "      <td>481</td>\n",
       "      <td>87</td>\n",
       "      <td>916</td>\n",
       "      <td>233027.0</td>\n",
       "      <td>False</td>\n",
       "      <td>0</td>\n",
       "    </tr>\n",
       "    <tr>\n",
       "      <th>Unknown</th>\n",
       "      <td>1</td>\n",
       "      <td>0</td>\n",
       "      <td>1</td>\n",
       "      <td>1</td>\n",
       "      <td>0</td>\n",
       "      <td>0</td>\n",
       "      <td>0</td>\n",
       "      <td>1</td>\n",
       "      <td>354.0</td>\n",
       "      <td>False</td>\n",
       "      <td>0</td>\n",
       "    </tr>\n",
       "    <tr>\n",
       "      <th>Yes</th>\n",
       "      <td>819</td>\n",
       "      <td>72</td>\n",
       "      <td>868</td>\n",
       "      <td>551</td>\n",
       "      <td>151</td>\n",
       "      <td>393</td>\n",
       "      <td>74</td>\n",
       "      <td>944</td>\n",
       "      <td>270009.0</td>\n",
       "      <td>False</td>\n",
       "      <td>0</td>\n",
       "    </tr>\n",
       "    <tr>\n",
       "      <th>unknown</th>\n",
       "      <td>1</td>\n",
       "      <td>0</td>\n",
       "      <td>1</td>\n",
       "      <td>1</td>\n",
       "      <td>0</td>\n",
       "      <td>0</td>\n",
       "      <td>0</td>\n",
       "      <td>1</td>\n",
       "      <td>76.0</td>\n",
       "      <td>False</td>\n",
       "      <td>0</td>\n",
       "    </tr>\n",
       "    <tr>\n",
       "      <th>yes</th>\n",
       "      <td>0</td>\n",
       "      <td>0</td>\n",
       "      <td>1</td>\n",
       "      <td>1</td>\n",
       "      <td>0</td>\n",
       "      <td>0</td>\n",
       "      <td>1</td>\n",
       "      <td>1</td>\n",
       "      <td>NaN</td>\n",
       "      <td>False</td>\n",
       "      <td>0</td>\n",
       "    </tr>\n",
       "  </tbody>\n",
       "</table>\n",
       "</div>"
      ],
      "text/plain": [
       "                     armed  woman   man  white  black  nonwhite  unarmed  \\\n",
       "mental_illness                                                             \n",
       "Drug or alcohol use    126      6   179    111     26        74       32   \n",
       "No                    2162    103  2679   1105    861      1683      276   \n",
       "Unknown                726     48   865    435    218       481       87   \n",
       "Unknown                  1      0     1      1      0         0        0   \n",
       "Yes                    819     72   868    551    151       393       74   \n",
       "unknown                  1      0     1      1      0         0        0   \n",
       "yes                      0      0     1      1      0         0        1   \n",
       "\n",
       "                     intentional  deslength  domesticViolence  fakegun  \n",
       "mental_illness                                                          \n",
       "Drug or alcohol use          185    57227.0             False        0  \n",
       "No                          2788   741293.0             False        0  \n",
       "Unknown                      916   233027.0             False        0  \n",
       "Unknown                        1      354.0             False        0  \n",
       "Yes                          944   270009.0             False        0  \n",
       "unknown                        1       76.0             False        0  \n",
       "yes                            1        NaN             False        0  "
      ]
     },
     "execution_count": 68,
     "metadata": {},
     "output_type": "execute_result"
    }
   ],
   "source": [
    "dfclean.loc[(dfclean.domesticViolence==0) & (dfclean.fakegun==0),:].groupby(['mental_illness']).sum()"
   ]
  },
  {
   "cell_type": "code",
   "execution_count": 69,
   "metadata": {},
   "outputs": [
    {
     "name": "stdout",
     "output_type": "stream",
     "text": [
      "Optimization terminated successfully.\n",
      "         Current function value: 0.313377\n",
      "         Iterations 7\n",
      "                           Logit Regression Results                           \n",
      "==============================================================================\n",
      "Dep. Variable:                unarmed   No. Observations:                 4836\n",
      "Model:                          Logit   Df Residuals:                     4830\n",
      "Method:                           MLE   Df Model:                            5\n",
      "Date:                Thu, 16 Nov 2017   Pseudo R-squ.:                 0.01720\n",
      "Time:                        14:15:44   Log-Likelihood:                -1515.5\n",
      "converged:                       True   LL-Null:                       -1542.0\n",
      "                                        LLR p-value:                 3.317e-10\n",
      "=====================================================================================\n",
      "                        coef    std err          z      P>|z|      [0.025      0.975]\n",
      "-------------------------------------------------------------------------------------\n",
      "Intercept            -2.4366      0.073    -33.586      0.000      -2.579      -2.294\n",
      "woman                 1.0128      0.209      4.855      0.000       0.604       1.422\n",
      "black                 0.4844      0.115      4.205      0.000       0.259       0.710\n",
      "mentally_impaired    -0.0007      0.143     -0.005      0.996      -0.281       0.279\n",
      "mi_woman             -1.6704      0.566     -2.951      0.003      -2.780      -0.561\n",
      "mi_black              0.4720      0.257      1.835      0.067      -0.032       0.976\n",
      "=====================================================================================\n"
     ]
    }
   ],
   "source": [
    "#mentally impaired\n",
    "dfclean['mentally_impaired'] = ((dfclean.mental_illness=='Yes') | (dfclean.mental_illness=='Drug or alcohol use')).astype(int)\n",
    "\n",
    "#interaction btw woman and impaired\n",
    "dfclean['mi_woman'] = (dfclean.mentally_impaired)*(dfclean.woman)\n",
    "\n",
    "#interaction btw black and impaired\n",
    "dfclean['mi_black'] = (dfclean.mentally_impaired)*(dfclean.black)\n",
    "\n",
    "#interact woman and black\n",
    "dfclean['woman_black'] = (dfclean.woman)*(dfclean.black)\n",
    "\n",
    "df_nofake_novio_int = dfclean.loc[(dfclean.domesticViolence==0) & (dfclean.fakegun==0),:]\n",
    "model = logit('unarmed ~ woman + black + mentally_impaired + mi_woman + mi_black',df_nofake_novio_int).fit()\n",
    "print(model.summary())"
   ]
  },
  {
   "cell_type": "markdown",
   "metadata": {},
   "source": [
    "#### According to this, 1) being mentally impaired is tied to a decrease in the likelihood of a woman being unarmed when killed, and 2) being mentally impaired is tied to an increase in the likelihood of a black person being unarmed when killed. So differences in mental impairment isn't a way to explain either factor since the non-interaction coefficients are still significant for both 'woman' and 'black'."
   ]
  },
  {
   "cell_type": "code",
   "execution_count": 70,
   "metadata": {},
   "outputs": [
    {
     "name": "stdout",
     "output_type": "stream",
     "text": [
      "Optimization terminated successfully.\n",
      "         Current function value: 0.314862\n",
      "         Iterations 6\n",
      "                           Logit Regression Results                           \n",
      "==============================================================================\n",
      "Dep. Variable:                unarmed   No. Observations:                 4836\n",
      "Model:                          Logit   Df Residuals:                     4832\n",
      "Method:                           MLE   Df Model:                            3\n",
      "Date:                Thu, 16 Nov 2017   Pseudo R-squ.:                 0.01254\n",
      "Time:                        14:15:44   Log-Likelihood:                -1522.7\n",
      "converged:                       True   LL-Null:                       -1542.0\n",
      "                                        LLR p-value:                 2.043e-08\n",
      "===============================================================================\n",
      "                  coef    std err          z      P>|z|      [0.025      0.975]\n",
      "-------------------------------------------------------------------------------\n",
      "Intercept      -2.4478      0.063    -38.588      0.000      -2.572      -2.323\n",
      "woman           0.7462      0.212      3.526      0.000       0.331       1.161\n",
      "black           0.5902      0.105      5.609      0.000       0.384       0.796\n",
      "woman_black    -0.4690      0.473     -0.991      0.322      -1.397       0.459\n",
      "===============================================================================\n"
     ]
    }
   ],
   "source": [
    "model = logit('unarmed ~ woman + black + woman_black',df_nofake_novio_int).fit()\n",
    "print(model.summary())"
   ]
  },
  {
   "cell_type": "markdown",
   "metadata": {},
   "source": [
    "#### While woman and black are both high risk groups, being a black woman isn't as worse of compared to nonblack women as the comparison between black and nonblack men. Adding this factor brings out the raw 'black' and 'woman' coefficients even more though, suggesting that both black men and nonblack women are even more at risk than the previous evidence has shown. To be clear, being a black woman is still the riskiest group and getting the true coefficient for black women would be ( .93 + .59 - .49 = 1.03). The negative coefficient just says that the relationship isn't strictly additive for woman and black."
   ]
  },
  {
   "cell_type": "code",
   "execution_count": null,
   "metadata": {
    "collapsed": true
   },
   "outputs": [],
   "source": []
  },
  {
   "cell_type": "code",
   "execution_count": null,
   "metadata": {
    "collapsed": true
   },
   "outputs": [],
   "source": []
  }
 ],
 "metadata": {
  "kernelspec": {
   "display_name": "Python 3",
   "language": "python",
   "name": "python3"
  },
  "language_info": {
   "codemirror_mode": {
    "name": "ipython",
    "version": 3
   },
   "file_extension": ".py",
   "mimetype": "text/x-python",
   "name": "python",
   "nbconvert_exporter": "python",
   "pygments_lexer": "ipython3",
   "version": "3.6.1"
  }
 },
 "nbformat": 4,
 "nbformat_minor": 2
}
